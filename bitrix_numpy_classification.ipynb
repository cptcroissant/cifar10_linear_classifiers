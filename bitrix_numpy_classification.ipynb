{
 "cells": [
  {
   "cell_type": "markdown",
   "metadata": {},
   "source": [
    "## Добрый день.\n",
    "\n",
    "Эта работа описывает создание линейного классификатора изображений cifar-10. \n",
    "\n",
    "В качестве модели выбрана логистическая регрессия, как наиболее понятная и воспроизводимая линейная модель.   \n",
    "В основе работы лежит решение задачи многоклассовой классификации. Градиент ошибки вычислияется с помощью cross_entropy. \n",
    "\n",
    "Все основные расчеты выполнены с помощью библиотеки numpy."
   ]
  },
  {
   "cell_type": "markdown",
   "metadata": {},
   "source": [
    "### Загрузка данных"
   ]
  },
  {
   "cell_type": "markdown",
   "metadata": {},
   "source": [
    "Загрузим библиотеки"
   ]
  },
  {
   "cell_type": "code",
   "execution_count": 1,
   "metadata": {},
   "outputs": [],
   "source": [
    "import numpy as np\n",
    "import pandas as pd\n",
    "\n",
    "import matplotlib.pyplot as plt\n",
    "from PIL import Image\n",
    "from skimage.transform import resize\n",
    "import pickle\n",
    "\n",
    "import seaborn as sns\n",
    "from sklearn.preprocessing import OneHotEncoder"
   ]
  },
  {
   "cell_type": "code",
   "execution_count": 2,
   "metadata": {},
   "outputs": [],
   "source": [
    "# sklearn используется в проекте в качестве проверочного решения\n",
    "# все внутренные расчеты модели содержат numpy\n",
    "\n",
    "from sklearn.linear_model import LogisticRegression\n",
    "from sklearn.metrics import f1_score, accuracy_score, classification_report, roc_auc_score"
   ]
  },
  {
   "cell_type": "markdown",
   "metadata": {},
   "source": [
    "Создаем функцию загрузки и решейпа данных по батчам"
   ]
  },
  {
   "cell_type": "code",
   "execution_count": 3,
   "metadata": {},
   "outputs": [],
   "source": [
    "def single_batch(file):\n",
    "\n",
    "    with open(file, 'rb') as f_single_batch:\n",
    "        d_single_batch = pickle.load(f_single_batch, encoding='latin1')  \n",
    "        x = d_single_batch['data']  \n",
    "        y = d_single_batch['labels'] \n",
    "        \n",
    "        x = x.reshape(10000, 3, 32, 32).transpose(0, 2, 3, 1)        \n",
    "        y = np.array(y)\n",
    "\n",
    "\n",
    "        return x, y"
   ]
  },
  {
   "cell_type": "markdown",
   "metadata": {},
   "source": [
    "Пробегаемся по батчам, создаем обучающую, валидационную и тестовую выборку.  \n",
    "  \n",
    "*При реране ноутбука на локальной машине - пожалуйста, скачайте и распакуйте датасет [cifar_10](https://www.cs.toronto.edu/~kriz/cifar-10-python.tar.gz) в любую папку. Далее - измените путь к данным в ячейке ниже.*"
   ]
  },
  {
   "cell_type": "code",
   "execution_count": 4,
   "metadata": {},
   "outputs": [],
   "source": [
    "batches = ['data_batch_2', 'data_batch_3', 'data_batch_4']\n",
    "\n",
    "x_train, y_train = single_batch('F:\\\\temp_pics\\\\cifar\\\\cifar-10-batches-py\\\\data_batch_1')\n",
    "x_valid, y_valid = single_batch('F:\\\\temp_pics\\\\cifar\\\\cifar-10-batches-py\\\\data_batch_5')\n",
    "x_test, y_test = single_batch('F:\\\\temp_pics\\\\cifar\\\\cifar-10-batches-py\\\\test_batch')\n",
    "\n",
    "\n",
    "for batch in batches:\n",
    "    \n",
    "    x_new, y_new =  single_batch('F:\\\\temp_pics\\\\cifar\\\\cifar-10-batches-py\\\\' + batch)\n",
    "    \n",
    "    x_train = np.concatenate((x_train, x_new))\n",
    "    y_train = np.concatenate((y_train, y_new))"
   ]
  },
  {
   "cell_type": "code",
   "execution_count": 5,
   "metadata": {},
   "outputs": [
    {
     "name": "stdout",
     "output_type": "stream",
     "text": [
      "(40000, 32, 32, 3) (10000, 32, 32, 3) (10000, 32, 32, 3)\n"
     ]
    }
   ],
   "source": [
    "print(x_train.shape, x_valid.shape, x_test.shape)"
   ]
  },
  {
   "cell_type": "markdown",
   "metadata": {},
   "source": [
    "Для проверки создадим список с названием классов"
   ]
  },
  {
   "cell_type": "code",
   "execution_count": 6,
   "metadata": {},
   "outputs": [],
   "source": [
    "labels = ['plane', 'car', 'bird', 'cat', 'deer', 'dog', 'frog', 'horse', 'ship', 'truck']"
   ]
  },
  {
   "cell_type": "markdown",
   "metadata": {},
   "source": [
    "Выведем несколько образцов и посмотрим на них"
   ]
  },
  {
   "cell_type": "code",
   "execution_count": 7,
   "metadata": {},
   "outputs": [
    {
     "data": {
      "image/png": "[encoded data removed]",
      "text/plain": [
       "<Figure size 864x288 with 5 Axes>"
      ]
     },
     "metadata": {
      "needs_background": "light"
     },
     "output_type": "display_data"
    }
   ],
   "source": [
    "figure_1, ax = plt.subplots(1,5, figsize=(12,4))\n",
    "\n",
    "ax[0].imshow(x_train[0])\n",
    "ax[0].set_title('label = ' + labels[y_train[0]])\n",
    "ax[1].imshow(x_train[1991])\n",
    "ax[1].set_title('label =' + labels[y_train[1991]])\n",
    "ax[2].imshow(x_train[21000])\n",
    "ax[2].set_title('label =' + labels[y_train[21000]])\n",
    "ax[3].imshow(x_valid[8878])\n",
    "ax[3].set_title('label =' + labels[y_valid[8878]])\n",
    "ax[4].imshow(x_test[1337])\n",
    "ax[4].set_title('label =' + labels[y_test[1337]])\n",
    "plt.show()"
   ]
  },
  {
   "cell_type": "markdown",
   "metadata": {},
   "source": [
    "### Изменение размерности массивов и нормализация данных\n",
    "\n",
    "Для удобства работы \"схлопнем\" массивы с размерностью 32х32х3 до 3072х1"
   ]
  },
  {
   "cell_type": "code",
   "execution_count": 8,
   "metadata": {},
   "outputs": [
    {
     "name": "stdout",
     "output_type": "stream",
     "text": [
      "(40000, 3072) (10000, 3072)\n"
     ]
    }
   ],
   "source": [
    "x_train_flatten = x_train.reshape(x_train.shape[0], -1)\n",
    "x_valid_flatten = x_valid.reshape(x_valid.shape[0], -1)\n",
    "x_test_flatten = x_test.reshape(x_test.shape[0], -1)\n",
    "\n",
    "print(x_train_flatten.shape, x_test_flatten.shape)"
   ]
  },
  {
   "cell_type": "markdown",
   "metadata": {},
   "source": [
    "Разделим каждый элемент массивов на 255. Заведем все значения в диапазон [0:1]."
   ]
  },
  {
   "cell_type": "code",
   "execution_count": 9,
   "metadata": {},
   "outputs": [
    {
     "data": {
      "text/plain": [
       "array([ 59,  62,  63, ..., 123,  92,  72], dtype=uint8)"
      ]
     },
     "execution_count": 9,
     "metadata": {},
     "output_type": "execute_result"
    }
   ],
   "source": [
    "x_train_flatten[0]"
   ]
  },
  {
   "cell_type": "code",
   "execution_count": 10,
   "metadata": {},
   "outputs": [],
   "source": [
    "x_train_normalized = x_train_flatten / 255.0\n",
    "x_valid_normalized = x_valid_flatten / 255.0\n",
    "x_test_normalized = x_test_flatten / 255.0"
   ]
  },
  {
   "cell_type": "code",
   "execution_count": 11,
   "metadata": {},
   "outputs": [
    {
     "data": {
      "text/plain": [
       "array([0.23137255, 0.24313725, 0.24705882, ..., 0.48235294, 0.36078431,\n",
       "       0.28235294])"
      ]
     },
     "execution_count": 11,
     "metadata": {},
     "output_type": "execute_result"
    }
   ],
   "source": [
    "x_train_normalized[0]"
   ]
  },
  {
   "cell_type": "markdown",
   "metadata": {},
   "source": [
    "Для тестирования классификатора возьмем ограниченный набор данный. Для обучения, валидации и теста - по 1000. При бОльшем объем падает память локальной машины и вычисление экспонент стремится к бесконечности."
   ]
  },
  {
   "cell_type": "code",
   "execution_count": 12,
   "metadata": {},
   "outputs": [],
   "source": [
    "X_train = x_train_normalized[:1000]\n",
    "y_train = y_train[:1000]\n",
    "\n",
    "X_valid = x_valid_normalized[:1000]\n",
    "y_valid = y_valid[:1000]\n",
    "\n",
    "X_test = x_test_normalized[:1000]\n",
    "y_test = y_test[:1000]"
   ]
  },
  {
   "cell_type": "markdown",
   "metadata": {},
   "source": [
    "Проверим распределение лейблов в обучающей выборке."
   ]
  },
  {
   "cell_type": "code",
   "execution_count": 13,
   "metadata": {},
   "outputs": [
    {
     "data": {
      "text/plain": [
       "1    112\n",
       "6    107\n",
       "9    103\n",
       "7    102\n",
       "0    102\n",
       "8     99\n",
       "4     99\n",
       "2     99\n",
       "3     92\n",
       "5     85\n",
       "dtype: int64"
      ]
     },
     "execution_count": 13,
     "metadata": {},
     "output_type": "execute_result"
    }
   ],
   "source": [
    "temp = pd.Series(y_train)\n",
    "temp.value_counts()"
   ]
  },
  {
   "cell_type": "markdown",
   "metadata": {},
   "source": [
    "Классы сбалансированы неидеально, но с невысоким уровнем дисперии. На точность прогноза в данном случае такое распределение не должно сильно повлиять. Выдвину гипотезу, что модель лучше всего будет предсказывать единички и шестерки, как господствующие классы."
   ]
  },
  {
   "cell_type": "markdown",
   "metadata": {},
   "source": [
    "### Бинаризация лейблов\n",
    "\n",
    "Для мультиклассовой задачи необходимо перевести лейблы в бинарный вид. Вектор каждого лейбла будет иметь длинну, равную количеству классов. Вектор будет содержать нули и одну единицу, находящуюся на позиции номера класса."
   ]
  },
  {
   "cell_type": "code",
   "execution_count": 14,
   "metadata": {},
   "outputs": [],
   "source": [
    "def encoding(label):\n",
    "    \n",
    "    binary_labels = np.zeros((len(label), 10))\n",
    "    \n",
    "    for i in range(len(label)):    \n",
    "        binary_label = [0,0,0,0,0,0,0,0,0,0]\n",
    "        binary_label[label[i]] = 1\n",
    "        binary_labels[i] = binary_label\n",
    "        \n",
    "    return binary_labels"
   ]
  },
  {
   "cell_type": "markdown",
   "metadata": {},
   "source": [
    "### Softmax  \n",
    "\n",
    "Напишем функцию, которая на вход получает предсказанные моделью числовые значения по каждому классу и возвращает вероятности принадлежности примера к определенному классу.\n",
    "\n",
    "![](https://encrypted-tbn0.gstatic.com/images?q=tbn:ANd9GcR7eTUTBwSQgnisOSR4f7BNWWsHHU2f7x66ug&usqp=CAU)\n",
    "\n",
    "где в числителе $x_i$ - экспонента элемента входящего вектора,   \n",
    "в знаменателе - сумма всех $x_j$ элементов входящего вектора, необходима для нормализации выходных значений.\n",
    "\n",
    "Внесем небольшие изменения для стабильной работы функции с любой размерностью входязих чисел."
   ]
  },
  {
   "cell_type": "code",
   "execution_count": 15,
   "metadata": {},
   "outputs": [],
   "source": [
    "def softmax(x):\n",
    "    # данный шаг позволит избежать чисел близких к inf (exponent overflow)\n",
    "    e = np.exp(x - np.max(x))  \n",
    "    \n",
    "    if e.ndim == 1:\n",
    "        return e / np.sum(e, axis=0)\n",
    "    else:  \n",
    "        return e / np.array([np.sum(e, axis=1)]).T  # ndim = 2"
   ]
  },
  {
   "cell_type": "markdown",
   "metadata": {},
   "source": [
    "### Создание классификатора\n",
    "\n",
    "Создадим новый класс и пропишем все необходимые функции.  \n",
    "\n",
    "Синтаткис класса схож со sklearn. Основные операции - fit() для обучения, predict() и predict_proba() для предсказания лейбла и вероятности лейбла.  \n",
    "Можно регулировать начальный learning rate, шаг изменения learning rate, количесво эпох обучения и строгость регуляризации.\n",
    "\n",
    "На вход функция будет получать \"развернутое\" в двумерный массив изображение.\n",
    "\n",
    "В модели используется l2 регуляризация для штрафа \"пиковых\" фич-значений яркости пикселя одного из трех цветов.\n",
    "\n",
    "Для вычисления градиента ошибки (cost) выбран подход мультиклассовой классификации one-vs-rest. Модель вычисляет вероятность принадледности объекта к классу. Далее мы вычисляем кросс-энтропию и \"кост\" функции на каждой эпохе. \n",
    "\n",
    "Функция fit() обладает аргументом *verbose*. При *verbose*=True функция выводит список градиента ошибки. По умолчанию - аргумент = False. "
   ]
  },
  {
   "cell_type": "code",
   "execution_count": 16,
   "metadata": {},
   "outputs": [],
   "source": [
    "class Logistic_Regression_numpy(object):\n",
    "    \n",
    "    def __init__(self, input, label, lr=0.001):\n",
    "        self.x = input\n",
    "        self.y = encoding(label)\n",
    "        self.lr = lr\n",
    "        # устанавливаем начальные веса модели на нулевой массив\n",
    "        self.W = np.zeros((self.x.shape[1], self.y.shape[1]))  \n",
    "        # устанавливаем начальный bias на ноль\n",
    "        self.b = np.zeros(self.y.shape[1])          \n",
    "\n",
    "        self.params = [self.W, self.b, self.lr]\n",
    "\n",
    "        \n",
    "    # на вход fit() принимает количество эпох, которое может менять пользователь\n",
    "    # показатель строгости регуляризации можно менять непосредственно в момент применения функции\n",
    "    \n",
    "    def fit(self, epochs, input=None, L2_reg=0.10, verbose=False):\n",
    "        if input is not None:\n",
    "            self.x = input\n",
    "               \n",
    "        cost_ = []\n",
    "        \n",
    "        for epoch in range(epochs):\n",
    "            # расчитываем первый проход модели по данным. \n",
    "            # на первой итерации веса нулевые. новая эпоха == обновленный вес и bias\n",
    "            # далее сравнимаем предсказанные значения с реальными\n",
    "            p_y_given_x = softmax(np.dot(self.x, self.W) + self.b)\n",
    "            d_y = self.y - p_y_given_x\n",
    "        \n",
    "            # обновляем веса модели с текущим значением learning rate и применяем регуляризацию для пиков\n",
    "            self.W += self.lr * np.dot(self.x.T, d_y) - self.lr * L2_reg * self.W\n",
    "            self.b += self.lr * np.mean(d_y, axis=0)\n",
    "            \n",
    "            # подсчитываем ошибку\n",
    "            cost = self.negative_log_likelihood()           \n",
    "            cost_.append(cost)\n",
    "            \n",
    "            # обновляем learning rate\n",
    "            self.lr *= 0.95   \n",
    "            \n",
    "        if verbose == True:    \n",
    "            return cost_\n",
    "            \n",
    "            \n",
    "    # функция NLL и кросс-энтропии \n",
    "    \n",
    "    def negative_log_likelihood(self):\n",
    "        # первым шагом подаем софтмакс функции выход модели\n",
    "        softmax_activation = softmax(np.dot(self.x, self.W) + self.b)\n",
    "        # вторым шагом находим кросс-энтропию\n",
    "        cross_entropy = - np.mean(\n",
    "            np.sum(self.y * np.log(softmax_activation) +\n",
    "            (1 - self.y) * np.log(1 - softmax_activation),\n",
    "                      axis=1))\n",
    "        \n",
    "        return cross_entropy\n",
    "\n",
    "    \n",
    "    def predict(self, x):\n",
    "        \n",
    "        # подставляем новые фичи в модель с обновленными весами, learning rate и смещением\n",
    "        output = softmax(np.dot(x, self.W) + self.b)\n",
    "        prediction = []\n",
    "        # перносим массивы ответов с вероятностями в лейблы\n",
    "        for i in range(len(output)):\n",
    "            y_i = np.argmax(output[i])\n",
    "            prediction.append(y_i)\n",
    "        \n",
    "        return prediction\n",
    "    \n",
    "    \n",
    "    def predict_proba(self, x):\n",
    "        \n",
    "        # укороченный вариант predict() здесь нам не надо выделять предсказанный лейбл класса\n",
    "        output = softmax(np.dot(x, self.W) + self.b)\n",
    "        \n",
    "        return output"
   ]
  },
  {
   "cell_type": "markdown",
   "metadata": {},
   "source": [
    "### Обучение и валидация результатов  \n",
    "\n",
    "Создадим классификатор и обучим его на 500 эпохах (итерациях)."
   ]
  },
  {
   "cell_type": "code",
   "execution_count": 17,
   "metadata": {},
   "outputs": [],
   "source": [
    "classifier_numpy = Logistic_Regression_numpy(X_train, y_train)"
   ]
  },
  {
   "cell_type": "code",
   "execution_count": 18,
   "metadata": {},
   "outputs": [
    {
     "name": "stderr",
     "output_type": "stream",
     "text": [
      "G:\\Programs\\Anaconda\\lib\\site-packages\\ipykernel_launcher.py:53: RuntimeWarning: divide by zero encountered in log\n",
      "G:\\Programs\\Anaconda\\lib\\site-packages\\ipykernel_launcher.py:53: RuntimeWarning: invalid value encountered in multiply\n",
      "G:\\Programs\\Anaconda\\lib\\site-packages\\ipykernel_launcher.py:54: RuntimeWarning: divide by zero encountered in log\n",
      "G:\\Programs\\Anaconda\\lib\\site-packages\\ipykernel_launcher.py:54: RuntimeWarning: invalid value encountered in multiply\n"
     ]
    },
    {
     "name": "stdout",
     "output_type": "stream",
     "text": [
      "Wall time: 15.7 s\n"
     ]
    }
   ],
   "source": [
    "%%time\n",
    "history = classifier_numpy.fit(epochs=500, verbose=True)"
   ]
  },
  {
   "cell_type": "code",
   "execution_count": 19,
   "metadata": {},
   "outputs": [
    {
     "data": {
      "image/png": "[encoded data removed]",
      "text/plain": [
       "<Figure size 648x288 with 1 Axes>"
      ]
     },
     "metadata": {
      "needs_background": "light"
     },
     "output_type": "display_data"
    }
   ],
   "source": [
    "plt.figure(figsize=(9,4))\n",
    "plt.plot(history, c='salmon', linewidth=2)\n",
    "plt.title('График снижения ошибки обучения модели classifier_numpy', size=14);"
   ]
  },
  {
   "cell_type": "markdown",
   "metadata": {},
   "source": [
    "Минимума функция достигает в диапазоне 70 эпох. На графике видны разрывы. Это ледствие ошибок умножения матриц в работе numpy. Локальные nan, которые появляются на некоторых эпохах, не влияют на общую работу алгоритма. При использовании данных меньшей размерности такой ошибки не обнаружено, график без разрывов.\n",
    "\n",
    "Cоздадим функцию проверки качества работы нового класса."
   ]
  },
  {
   "cell_type": "code",
   "execution_count": 20,
   "metadata": {},
   "outputs": [],
   "source": [
    "def evaluation(model, x, y):\n",
    "    \n",
    "    prediction = model.predict(x)\n",
    "    f1 = f1_score(y, prediction, average='macro')\n",
    "    class_report = classification_report(y, prediction)\n",
    "    \n",
    "    print('f1-macro скор модели =', np.round(f1,4))\n",
    "    print()\n",
    "    print(class_report)"
   ]
  },
  {
   "cell_type": "markdown",
   "metadata": {},
   "source": [
    "Проверим качество модели трех выборках."
   ]
  },
  {
   "cell_type": "code",
   "execution_count": 21,
   "metadata": {},
   "outputs": [
    {
     "name": "stdout",
     "output_type": "stream",
     "text": [
      "f1-macro скор модели = 0.4464\n",
      "\n",
      "              precision    recall  f1-score   support\n",
      "\n",
      "           0       0.46      0.42      0.44       102\n",
      "           1       0.52      0.52      0.52       112\n",
      "           2       0.42      0.41      0.42        99\n",
      "           3       0.38      0.39      0.39        92\n",
      "           4       0.49      0.47      0.48        99\n",
      "           5       0.45      0.45      0.45        85\n",
      "           6       0.43      0.47      0.45       107\n",
      "           7       0.35      0.33      0.34       102\n",
      "           8       0.46      0.49      0.48        99\n",
      "           9       0.50      0.50      0.50       103\n",
      "\n",
      "    accuracy                           0.45      1000\n",
      "   macro avg       0.45      0.45      0.45      1000\n",
      "weighted avg       0.45      0.45      0.45      1000\n",
      "\n"
     ]
    }
   ],
   "source": [
    "evaluation(classifier_numpy, X_train, y_train)"
   ]
  },
  {
   "cell_type": "code",
   "execution_count": 22,
   "metadata": {},
   "outputs": [
    {
     "name": "stdout",
     "output_type": "stream",
     "text": [
      "f1-macro скор модели = 0.3111\n",
      "\n",
      "              precision    recall  f1-score   support\n",
      "\n",
      "           0       0.43      0.38      0.40       104\n",
      "           1       0.36      0.34      0.35        94\n",
      "           2       0.22      0.19      0.21        94\n",
      "           3       0.19      0.17      0.18        88\n",
      "           4       0.24      0.23      0.24       107\n",
      "           5       0.19      0.22      0.21        96\n",
      "           6       0.39      0.49      0.44       100\n",
      "           7       0.24      0.21      0.22       103\n",
      "           8       0.41      0.49      0.45       104\n",
      "           9       0.44      0.41      0.42       110\n",
      "\n",
      "    accuracy                           0.32      1000\n",
      "   macro avg       0.31      0.31      0.31      1000\n",
      "weighted avg       0.31      0.32      0.31      1000\n",
      "\n"
     ]
    }
   ],
   "source": [
    "evaluation(classifier_numpy, X_valid, y_valid)"
   ]
  },
  {
   "cell_type": "code",
   "execution_count": 23,
   "metadata": {},
   "outputs": [
    {
     "name": "stdout",
     "output_type": "stream",
     "text": [
      "f1-macro скор модели = 0.2974\n",
      "\n",
      "              precision    recall  f1-score   support\n",
      "\n",
      "           0       0.34      0.33      0.33       103\n",
      "           1       0.37      0.37      0.37        89\n",
      "           2       0.18      0.15      0.16       100\n",
      "           3       0.19      0.17      0.18       103\n",
      "           4       0.20      0.22      0.21        90\n",
      "           5       0.22      0.23      0.23        86\n",
      "           6       0.38      0.41      0.40       112\n",
      "           7       0.28      0.28      0.28       102\n",
      "           8       0.43      0.47      0.45       106\n",
      "           9       0.38      0.36      0.37       109\n",
      "\n",
      "    accuracy                           0.30      1000\n",
      "   macro avg       0.30      0.30      0.30      1000\n",
      "weighted avg       0.30      0.30      0.30      1000\n",
      "\n"
     ]
    }
   ],
   "source": [
    "evaluation(classifier_numpy, X_test, y_test)"
   ]
  },
  {
   "cell_type": "markdown",
   "metadata": {},
   "source": [
    "1. Точность прогноза далека от идеала;\n",
    "2. Заметно переобучение; \n",
    "3. Модель предсказывает каждый класс. Нулевые предсказания классов отсутствуют;  \n",
    "4. Качество предсказаний на валидационном и тестовом сете похожи. Модель обучилась.\n",
    "\n",
    "Однако, посмотрим, что сможет показать логистическая регрессия из коробки от sklearn. Для чистоты эксперимента не будем сильно тюнить гиперпараметры."
   ]
  },
  {
   "cell_type": "code",
   "execution_count": 24,
   "metadata": {},
   "outputs": [
    {
     "name": "stdout",
     "output_type": "stream",
     "text": [
      "Wall time: 10.1 s\n"
     ]
    },
    {
     "data": {
      "text/plain": [
       "LogisticRegression(C=0.01, class_weight=None, dual=False, fit_intercept=True,\n",
       "                   intercept_scaling=1, l1_ratio=None, max_iter=500,\n",
       "                   multi_class='auto', n_jobs=None, penalty='l2',\n",
       "                   random_state=1337, solver='lbfgs', tol=0.0001, verbose=0,\n",
       "                   warm_start=False)"
      ]
     },
     "execution_count": 24,
     "metadata": {},
     "output_type": "execute_result"
    }
   ],
   "source": [
    "%%time\n",
    "classifier_sklearn = LogisticRegression(C=0.01, solver='lbfgs', multi_class='auto', max_iter=500, random_state=1337)\n",
    "classifier_sklearn.fit(X_train, y_train)"
   ]
  },
  {
   "cell_type": "code",
   "execution_count": 25,
   "metadata": {},
   "outputs": [
    {
     "name": "stdout",
     "output_type": "stream",
     "text": [
      "f1-macro скор модели = 0.5815\n",
      "\n",
      "              precision    recall  f1-score   support\n",
      "\n",
      "           0       0.62      0.60      0.61       102\n",
      "           1       0.62      0.69      0.65       112\n",
      "           2       0.54      0.54      0.54        99\n",
      "           3       0.60      0.45      0.51        92\n",
      "           4       0.69      0.53      0.60        99\n",
      "           5       0.57      0.51      0.54        85\n",
      "           6       0.51      0.65      0.58       107\n",
      "           7       0.58      0.57      0.57       102\n",
      "           8       0.61      0.67      0.64        99\n",
      "           9       0.55      0.62      0.58       103\n",
      "\n",
      "    accuracy                           0.58      1000\n",
      "   macro avg       0.59      0.58      0.58      1000\n",
      "weighted avg       0.59      0.58      0.58      1000\n",
      "\n"
     ]
    }
   ],
   "source": [
    "evaluation(classifier_sklearn, X_train, y_train)"
   ]
  },
  {
   "cell_type": "code",
   "execution_count": 26,
   "metadata": {},
   "outputs": [
    {
     "name": "stdout",
     "output_type": "stream",
     "text": [
      "f1-macro скор модели = 0.3114\n",
      "\n",
      "              precision    recall  f1-score   support\n",
      "\n",
      "           0       0.39      0.43      0.41       104\n",
      "           1       0.34      0.37      0.36        94\n",
      "           2       0.24      0.22      0.23        94\n",
      "           3       0.19      0.11      0.14        88\n",
      "           4       0.28      0.21      0.24       107\n",
      "           5       0.15      0.14      0.14        96\n",
      "           6       0.38      0.53      0.44       100\n",
      "           7       0.36      0.30      0.33       103\n",
      "           8       0.35      0.45      0.39       104\n",
      "           9       0.40      0.45      0.42       110\n",
      "\n",
      "    accuracy                           0.33      1000\n",
      "   macro avg       0.31      0.32      0.31      1000\n",
      "weighted avg       0.31      0.33      0.32      1000\n",
      "\n"
     ]
    }
   ],
   "source": [
    "evaluation(classifier_sklearn, X_valid, y_valid)"
   ]
  },
  {
   "cell_type": "code",
   "execution_count": 27,
   "metadata": {},
   "outputs": [
    {
     "name": "stdout",
     "output_type": "stream",
     "text": [
      "f1-macro скор модели = 0.3217\n",
      "\n",
      "              precision    recall  f1-score   support\n",
      "\n",
      "           0       0.41      0.39      0.40       103\n",
      "           1       0.42      0.48      0.45        89\n",
      "           2       0.22      0.22      0.22       100\n",
      "           3       0.20      0.13      0.15       103\n",
      "           4       0.24      0.19      0.21        90\n",
      "           5       0.22      0.16      0.19        86\n",
      "           6       0.34      0.49      0.40       112\n",
      "           7       0.34      0.33      0.34       102\n",
      "           8       0.42      0.48      0.45       106\n",
      "           9       0.39      0.42      0.41       109\n",
      "\n",
      "    accuracy                           0.34      1000\n",
      "   macro avg       0.32      0.33      0.32      1000\n",
      "weighted avg       0.32      0.34      0.33      1000\n",
      "\n"
     ]
    }
   ],
   "source": [
    "evaluation(classifier_sklearn, X_test, y_test)"
   ]
  },
  {
   "cell_type": "markdown",
   "metadata": {},
   "source": [
    "### Сравнение результатов\n",
    "\n",
    "Сведем результаты в общую таблицу."
   ]
  },
  {
   "cell_type": "code",
   "execution_count": 36,
   "metadata": {},
   "outputs": [],
   "source": [
    "models = ['numpy', 'sklearn']\n",
    "time = [15.7, 10.1]\n",
    "train_score = [0.446, 0.582]\n",
    "valid_score = [0.311, 0.311]\n",
    "test_score = [0.297, 0.322]\n",
    "\n",
    "dict_ = {'algorithm':models,\n",
    "         'training time':time, \n",
    "         'f1_train':train_score,\n",
    "         'f1_valid':valid_score,\n",
    "         'f1_test':test_score\n",
    "        }\n",
    "\n",
    "result = pd.DataFrame(data=dict_)"
   ]
  },
  {
   "cell_type": "code",
   "execution_count": 37,
   "metadata": {},
   "outputs": [
    {
     "data": {
      "text/html": [
       "<div>\n",
       "<style scoped>\n",
       "    .dataframe tbody tr th:only-of-type {\n",
       "        vertical-align: middle;\n",
       "    }\n",
       "\n",
       "    .dataframe tbody tr th {\n",
       "        vertical-align: top;\n",
       "    }\n",
       "\n",
       "    .dataframe thead th {\n",
       "        text-align: right;\n",
       "    }\n",
       "</style>\n",
       "<table border=\"1\" class=\"dataframe\">\n",
       "  <thead>\n",
       "    <tr style=\"text-align: right;\">\n",
       "      <th></th>\n",
       "      <th>algorithm</th>\n",
       "      <th>training time</th>\n",
       "      <th>f1_train</th>\n",
       "      <th>f1_valid</th>\n",
       "      <th>f1_test</th>\n",
       "    </tr>\n",
       "  </thead>\n",
       "  <tbody>\n",
       "    <tr>\n",
       "      <th>0</th>\n",
       "      <td>numpy</td>\n",
       "      <td>15.7</td>\n",
       "      <td>0.446</td>\n",
       "      <td>0.311</td>\n",
       "      <td>0.297</td>\n",
       "    </tr>\n",
       "    <tr>\n",
       "      <th>1</th>\n",
       "      <td>sklearn</td>\n",
       "      <td>10.1</td>\n",
       "      <td>0.582</td>\n",
       "      <td>0.311</td>\n",
       "      <td>0.322</td>\n",
       "    </tr>\n",
       "  </tbody>\n",
       "</table>\n",
       "</div>"
      ],
      "text/plain": [
       "  algorithm  training time  f1_train  f1_valid  f1_test\n",
       "0     numpy           15.7     0.446     0.311    0.297\n",
       "1   sklearn           10.1     0.582     0.311    0.322"
      ]
     },
     "execution_count": 37,
     "metadata": {},
     "output_type": "execute_result"
    }
   ],
   "source": [
    "result"
   ]
  },
  {
   "cell_type": "markdown",
   "metadata": {},
   "source": [
    "\"Ручная\" заметно проигрывает по времени обучения коробочному решению. Однако показывает очень близкий результат в предсказаниях на вализационной и тестовой выборках. Так же можно заметно меньшее переобучение модели, написанной на numpy."
   ]
  },
  {
   "cell_type": "markdown",
   "metadata": {},
   "source": [
    "### Предсказание единичного изображения."
   ]
  },
  {
   "cell_type": "code",
   "execution_count": 30,
   "metadata": {},
   "outputs": [
    {
     "name": "stdout",
     "output_type": "stream",
     "text": [
      "test\n",
      "test\n"
     ]
    }
   ],
   "source": [
    "print('test\\n' 'test')"
   ]
  },
  {
   "cell_type": "code",
   "execution_count": 31,
   "metadata": {},
   "outputs": [],
   "source": [
    "def predict_example(model, x, y):\n",
    "    \n",
    "    x_pred = x.reshape(32*32*3, -1).T / 255.0\n",
    "    prediction = int(model.predict(x_pred)[0])\n",
    "    # танцы с бубном для того, чтобы не перепесывать encoding под одиночный пример\n",
    "    y_pred = []\n",
    "    y_pred.append(y)\n",
    "    y_pred = encoding(y_pred)\n",
    "    \n",
    "    label_true = labels[y]\n",
    "    label_pred = labels[prediction]\n",
    "    \n",
    "    plt.figure(figsize=(3,3))\n",
    "    plt.imshow(x)\n",
    "    print('true_label:', label_true)\n",
    "    print('pred_label:', label_pred)"
   ]
  },
  {
   "cell_type": "code",
   "execution_count": 32,
   "metadata": {},
   "outputs": [
    {
     "name": "stdout",
     "output_type": "stream",
     "text": [
      "true_label: plane\n",
      "pred_label: plane\n"
     ]
    },
    {
     "data": {
      "image/png": "[encoded data removed]",
      "text/plain": [
       "<Figure size 216x216 with 1 Axes>"
      ]
     },
     "metadata": {
      "needs_background": "light"
     },
     "output_type": "display_data"
    }
   ],
   "source": [
    "predict_example(classifier_numpy, x_valid[818], y_valid[818])"
   ]
  },
  {
   "cell_type": "code",
   "execution_count": 33,
   "metadata": {},
   "outputs": [
    {
     "name": "stdout",
     "output_type": "stream",
     "text": [
      "true_label: dog\n",
      "pred_label: truck\n"
     ]
    },
    {
     "data": {
      "image/png": "[encoded data removed]",
      "text/plain": [
       "<Figure size 216x216 with 1 Axes>"
      ]
     },
     "metadata": {
      "needs_background": "light"
     },
     "output_type": "display_data"
    }
   ],
   "source": [
    "predict_example(classifier_numpy, x_valid[373], y_valid[373])"
   ]
  },
  {
   "cell_type": "markdown",
   "metadata": {},
   "source": [
    "Самолет распознали. А вот с собачкой неловко вышло."
   ]
  },
  {
   "cell_type": "markdown",
   "metadata": {},
   "source": [
    "### Вывод\n",
    "\n",
    "Цель работы достигнута - создана модель многоклассовой классификации на основе numpy.  \n",
    "Классификатор обладает относительно невысоким качеством прогноза: f1-macro ~0.3 на валидационной и тестовой выборках. Но данный показатель близок к коробочному решению sklearn: f1-macro ~0,33.\n",
    "\n",
    "Для дальнейшего повышения качества прогнозов можно применить снижение размерности массивов (PCA), поиграть со скруткой многомерного массива, применять более сложные модели."
   ]
  }
 ],
 "metadata": {
  "kernelspec": {
   "display_name": "Python 3",
   "language": "python",
   "name": "python3"
  },
  "language_info": {
   "codemirror_mode": {
    "name": "ipython",
    "version": 3
   },
   "file_extension": ".py",
   "mimetype": "text/x-python",
   "name": "python",
   "nbconvert_exporter": "python",
   "pygments_lexer": "ipython3",
   "version": "3.7.4"
  }
 },
 "nbformat": 4,
 "nbformat_minor": 2
}
